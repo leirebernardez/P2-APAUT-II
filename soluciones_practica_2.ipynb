{
 "cells": [
  {
   "cell_type": "markdown",
   "id": "4ea4ddcb",
   "metadata": {},
   "source": [
    "<div style=\"background-color:#f0f8ff; border-radius:8px; padding:12px; text-align:center;\">\n",
    "\n",
    "# **PRACTICA 2: Árboles y Ensembles**\n",
    "\n",
    "</div>\n",
    "\n",
    "*Aprendizaje Automático*\n",
    "\n",
    "---\n",
    "\n",
    "**Grupo:** G-7312  \n",
    "**Número de pareja:** 01  \n",
    "**Miembros:**  \n",
    "- Leire Bernárdez Vázquez  \n",
    "- Carmen Reiné Rueda\n",
    "\n",
    "---\n",
    "\n",
    "### **Importaciones**"
   ]
  },
  {
   "cell_type": "code",
   "execution_count": null,
   "id": "f9dba5e5",
   "metadata": {},
   "outputs": [],
   "source": []
  },
  {
   "cell_type": "markdown",
   "id": "fd4a805c",
   "metadata": {},
   "source": [
    "---\n",
    "\n",
    "### **1. Clasificación mediante árboles de clasificación**\n",
    "\n",
    "1. Cargue los datos del problema"
   ]
  },
  {
   "cell_type": "code",
   "execution_count": null,
   "id": "343b57a9",
   "metadata": {},
   "outputs": [],
   "source": []
  },
  {
   "cell_type": "markdown",
   "id": "bdd92d60",
   "metadata": {},
   "source": [
    "2. Separe los datos en training (50 %) y test (50 %)"
   ]
  },
  {
   "cell_type": "code",
   "execution_count": null,
   "id": "bc7d1c1a",
   "metadata": {},
   "outputs": [],
   "source": []
  },
  {
   "cell_type": "markdown",
   "id": "8401128f",
   "metadata": {},
   "source": [
    "3. Utilice la clase DecisionTreeClassifier de Sklearn para resolver el problema\n",
    "y d ́e un resultado de test usando la m ́etrica que considere oportuna"
   ]
  },
  {
   "cell_type": "code",
   "execution_count": null,
   "id": "485a28a4",
   "metadata": {},
   "outputs": [],
   "source": []
  },
  {
   "cell_type": "markdown",
   "id": "2a02190d",
   "metadata": {},
   "source": [
    "4. ¿Había missing values en nuestro problema? ¿Qué efecto tendría en los  ́arboles no completar los missing values ?"
   ]
  },
  {
   "cell_type": "code",
   "execution_count": null,
   "id": "3e99457c",
   "metadata": {},
   "outputs": [],
   "source": []
  },
  {
   "cell_type": "markdown",
   "id": "b7f58d6a",
   "metadata": {},
   "source": [
    "5. ¿Con qué parémetro podr ́ıa controlarse la profundidad del ́arbol? ¿Qué ocurre si un ́arbol se inicializa sin dar un valor concreto a ese parámetro? ¿Crees que sería una buena práctica no darle ningún valor?"
   ]
  },
  {
   "cell_type": "code",
   "execution_count": null,
   "id": "2ba79ba6",
   "metadata": {},
   "outputs": [],
   "source": []
  },
  {
   "cell_type": "markdown",
   "id": "d172a45d",
   "metadata": {},
   "source": [
    "6. ¿Son sensibles los ́arboles al desequilibrio entre clases?"
   ]
  },
  {
   "cell_type": "code",
   "execution_count": null,
   "id": "0f55122c",
   "metadata": {},
   "outputs": [],
   "source": []
  },
  {
   "cell_type": "markdown",
   "id": "c329e056",
   "metadata": {},
   "source": [
    "7. ¿Existe desequilibrio entre las clases de nuestro problema? ¿Con qué parámetro de la clase DecisionTreeClassifier podrías corregirlo?"
   ]
  },
  {
   "cell_type": "code",
   "execution_count": null,
   "id": "9c1dc959",
   "metadata": {},
   "outputs": [],
   "source": []
  },
  {
   "cell_type": "markdown",
   "id": "b23981d2",
   "metadata": {},
   "source": [
    "8. ¿Cuál es la diferencia entre los parámetros min samples split y min samples leaf ?"
   ]
  },
  {
   "cell_type": "code",
   "execution_count": null,
   "id": "0ccf061d",
   "metadata": {},
   "outputs": [],
   "source": []
  },
  {
   "cell_type": "markdown",
   "id": "2520151e",
   "metadata": {},
   "source": [
    "9. ¿Para qué sirve el parémetro criterion, qué valores puede tomar y qué significa o representa cada uno de esos valores?"
   ]
  },
  {
   "cell_type": "code",
   "execution_count": null,
   "id": "e6181b63",
   "metadata": {},
   "outputs": [],
   "source": []
  },
  {
   "cell_type": "markdown",
   "id": "65ff286d",
   "metadata": {},
   "source": [
    "10. El ́arbol entrenado, ¿realiza splits utilizando todas las variables disponibles?"
   ]
  },
  {
   "cell_type": "code",
   "execution_count": null,
   "id": "e3450d7f",
   "metadata": {},
   "outputs": [],
   "source": []
  },
  {
   "cell_type": "markdown",
   "id": "e11b88d4",
   "metadata": {},
   "source": [
    "11. ¿Se le ocurre alguna forma de crear un selector de atributos a partir de un árbol de clasificación?"
   ]
  },
  {
   "cell_type": "code",
   "execution_count": null,
   "id": "e199f75b",
   "metadata": {},
   "outputs": [],
   "source": []
  },
  {
   "cell_type": "markdown",
   "id": "d45baaa1",
   "metadata": {},
   "source": [
    "---\n",
    "\n",
    "### **2. Regresión mediante árboles de regresión**"
   ]
  },
  {
   "cell_type": "markdown",
   "id": "8e63c150",
   "metadata": {},
   "source": [
    "---\n",
    "\n",
    "### **3. Ensembles**"
   ]
  }
 ],
 "metadata": {
  "kernelspec": {
   "display_name": "Python 3",
   "language": "python",
   "name": "python3"
  },
  "language_info": {
   "codemirror_mode": {
    "name": "ipython",
    "version": 3
   },
   "file_extension": ".py",
   "mimetype": "text/x-python",
   "name": "python",
   "nbconvert_exporter": "python",
   "pygments_lexer": "ipython3",
   "version": "3.12.8"
  }
 },
 "nbformat": 4,
 "nbformat_minor": 5
}
