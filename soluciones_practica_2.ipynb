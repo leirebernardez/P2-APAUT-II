{
 "cells": [
  {
   "cell_type": "markdown",
   "id": "4ea4ddcb",
   "metadata": {},
   "source": [
    "<div style=\"background-color:#f0f8ff; border-radius:8px; padding:12px; text-align:center;\">\n",
    "\n",
    "# **PRACTICA 2: Árboles y Ensembles**\n",
    "\n",
    "</div>\n",
    "\n",
    "*Aprendizaje Automático*\n",
    "\n",
    "---\n",
    "\n",
    "**Grupo:** G-7312  \n",
    "**Número de pareja:** 01  \n",
    "**Miembros:**  \n",
    "- Leire Bernárdez Vázquez  \n",
    "- Carmen Reiné Rueda\n",
    "\n",
    "---\n",
    "\n",
    "### **Importaciones**"
   ]
  },
  {
   "cell_type": "code",
   "execution_count": null,
   "id": "f9dba5e5",
   "metadata": {},
   "outputs": [],
   "source": [
    "import numpy as np\n",
    "import matplotlib.pyplot as plt\n",
    "from sklearn.model_selection import train_test_split\n",
    "from sklearn.preprocessing import StandardScaler, MinMaxScaler\n",
    "from sklearn.metrics import accuracy_score\n",
    "from sklearn.model_selection import GridSearchCV, StratifiedKFold\n",
    "from sklearn.pipeline import Pipeline\n",
    "from sklearn.datasets import fetch_covtype\n",
    "from sklearn.tree import DecisionTreeClassifier"
   ]
  },
  {
   "cell_type": "markdown",
   "id": "fd4a805c",
   "metadata": {},
   "source": [
    "---\n",
    "\n",
    "### **1. Clasificación mediante árboles de clasificación**\n",
    "\n",
    "1. Cargue los datos del problema"
   ]
  },
  {
   "cell_type": "code",
   "execution_count": null,
   "id": "343b57a9",
   "metadata": {},
   "outputs": [],
   "source": [
    "# Load the Covertype dataset\n",
    "cov_type = fetch_covtype()\n",
    "# Separate the features and the target variable\n",
    "X = cov_type.data\n",
    "y = cov_type.target"
   ]
  },
  {
   "cell_type": "markdown",
   "id": "bdd92d60",
   "metadata": {},
   "source": [
    "2. Separe los datos en training (50 %) y test (50 %)"
   ]
  },
  {
   "cell_type": "code",
   "execution_count": 11,
   "id": "bc7d1c1a",
   "metadata": {},
   "outputs": [],
   "source": [
    "X_train, X_test, y_train, y_test = train_test_split(\n",
    "    X, y, test_size=0.5, random_state=42, stratify=y\n",
    ")"
   ]
  },
  {
   "cell_type": "markdown",
   "id": "5d3411fd",
   "metadata": {},
   "source": [
    "No hace falta escalarlo, lo dice la teacher (los árboles se tragan todo lo que les des)"
   ]
  },
  {
   "cell_type": "markdown",
   "id": "8401128f",
   "metadata": {},
   "source": [
    "3. Utilice la clase DecisionTreeClassifier de Sklearn para resolver el problema\n",
    "y dé un resultado de test usando la m ́etrica que considere oportuna"
   ]
  },
  {
   "cell_type": "code",
   "execution_count": 13,
   "id": "485a28a4",
   "metadata": {},
   "outputs": [
    {
     "name": "stdout",
     "output_type": "stream",
     "text": [
      "Accuracy: 92.34611333328743 %\n"
     ]
    }
   ],
   "source": [
    "decision_tree = DecisionTreeClassifier()\n",
    "decision_tree.fit(X_train, y_train)\n",
    "y_pred = decision_tree.predict(X_test)\n",
    "porcentaje = accuracy_score(y_test, y_pred)\n",
    "print(\"Accuracy:\", porcentaje*100, \"%\")"
   ]
  },
  {
   "cell_type": "markdown",
   "id": "2a02190d",
   "metadata": {},
   "source": [
    "4. ¿Había missing values en nuestro problema? ¿Qué efecto tendría en los árboles no completar los missing values ?"
   ]
  },
  {
   "cell_type": "code",
   "execution_count": 14,
   "id": "29705ab3",
   "metadata": {},
   "outputs": [
    {
     "data": {
      "text/plain": [
       "True"
      ]
     },
     "execution_count": 14,
     "metadata": {},
     "output_type": "execute_result"
    }
   ],
   "source": [
    "np.isnan(X_train).sum()==0"
   ]
  },
  {
   "cell_type": "markdown",
   "id": "b52ffbee",
   "metadata": {},
   "source": [
    "Si existieran y no se imputaran, DecisionTreeClassifier daría error al entrenar, porque los árboles no soportan missing values; requieren que todos los datos estén completos para funcionar. Para solucionar este problema, se podrían imputar con media, mediana o un valor concreto."
   ]
  },
  {
   "cell_type": "markdown",
   "id": "b7f58d6a",
   "metadata": {},
   "source": [
    "5. ¿Con qué parémetro podría controlarse la profundidad del ́arbol? ¿Qué ocurre si un ́arbol se inicializa sin dar un valor concreto a ese parámetro? ¿Crees que sería una buena práctica no darle ningún valor?"
   ]
  },
  {
   "cell_type": "markdown",
   "id": "3b2256c1",
   "metadata": {},
   "source": [
    "a) La profundidad máxima del árbol se controla con el parámetro max_depth directamente, que por defecto es max_depth=None. Sin embargo, también se puede controlar indirectamente con min_samples_split, que no divide un nodo si tiene menos muestras que las requeridas, y con min_samples_leaf, que obliga a que cada hoja tenga un mínimo de muestras para evitar que existan ramas muy profundas con pocas muestras. Por lo tanto, con estos valores se reduce la profundidad máxima alcanzada.\n",
    "\n",
    "b) Crecería tanto como datos se le pasaran sin ningún tipo de límite.\n",
    "\n",
    "c) No, debido a que sin un límite establecido, los árboles grandes consumen más memoria, tardan más en entrenar y tienden a sobreajustarse más fácilmente. Con lo cual, sería importante definir un max_depth razonable teniendo en cuenta los datos."
   ]
  },
  {
   "cell_type": "markdown",
   "id": "d172a45d",
   "metadata": {},
   "source": [
    "6. ¿Son sensibles los ́arboles al desequilibrio entre clases?"
   ]
  },
  {
   "cell_type": "code",
   "execution_count": null,
   "id": "0f55122c",
   "metadata": {},
   "outputs": [],
   "source": []
  },
  {
   "cell_type": "markdown",
   "id": "39aabafc",
   "metadata": {},
   "source": []
  },
  {
   "cell_type": "markdown",
   "id": "c329e056",
   "metadata": {},
   "source": [
    "7. ¿Existe desequilibrio entre las clases de nuestro problema? ¿Con qué parámetro de la clase DecisionTreeClassifier podrías corregirlo?"
   ]
  },
  {
   "cell_type": "code",
   "execution_count": null,
   "id": "9c1dc959",
   "metadata": {},
   "outputs": [],
   "source": []
  },
  {
   "cell_type": "markdown",
   "id": "3e21fe9c",
   "metadata": {},
   "source": []
  },
  {
   "cell_type": "markdown",
   "id": "b23981d2",
   "metadata": {},
   "source": [
    "8. ¿Cuál es la diferencia entre los parámetros min samples split y min samples leaf ?"
   ]
  },
  {
   "cell_type": "code",
   "execution_count": null,
   "id": "0ccf061d",
   "metadata": {},
   "outputs": [],
   "source": []
  },
  {
   "cell_type": "markdown",
   "id": "2b1ca953",
   "metadata": {},
   "source": []
  },
  {
   "cell_type": "markdown",
   "id": "2520151e",
   "metadata": {},
   "source": [
    "9. ¿Para qué sirve el parémetro criterion, qué valores puede tomar y qué significa o representa cada uno de esos valores?"
   ]
  },
  {
   "cell_type": "code",
   "execution_count": null,
   "id": "e6181b63",
   "metadata": {},
   "outputs": [],
   "source": []
  },
  {
   "cell_type": "markdown",
   "id": "9165a8ad",
   "metadata": {},
   "source": []
  },
  {
   "cell_type": "markdown",
   "id": "65ff286d",
   "metadata": {},
   "source": [
    "10. El ́arbol entrenado, ¿realiza splits utilizando todas las variables disponibles?"
   ]
  },
  {
   "cell_type": "code",
   "execution_count": null,
   "id": "e3450d7f",
   "metadata": {},
   "outputs": [],
   "source": []
  },
  {
   "cell_type": "markdown",
   "id": "bc89f317",
   "metadata": {},
   "source": []
  },
  {
   "cell_type": "markdown",
   "id": "e11b88d4",
   "metadata": {},
   "source": [
    "11. ¿Se le ocurre alguna forma de crear un selector de atributos a partir de un árbol de clasificación?"
   ]
  },
  {
   "cell_type": "code",
   "execution_count": null,
   "id": "e199f75b",
   "metadata": {},
   "outputs": [],
   "source": []
  },
  {
   "cell_type": "markdown",
   "id": "d7b84ac6",
   "metadata": {},
   "source": []
  },
  {
   "cell_type": "markdown",
   "id": "d45baaa1",
   "metadata": {},
   "source": [
    "---\n",
    "\n",
    "### **2. Regresión mediante árboles de regresión**"
   ]
  },
  {
   "cell_type": "markdown",
   "id": "8e63c150",
   "metadata": {},
   "source": [
    "---\n",
    "\n",
    "### **3. Ensembles**"
   ]
  }
 ],
 "metadata": {
  "kernelspec": {
   "display_name": "Python 3",
   "language": "python",
   "name": "python3"
  },
  "language_info": {
   "codemirror_mode": {
    "name": "ipython",
    "version": 3
   },
   "file_extension": ".py",
   "mimetype": "text/x-python",
   "name": "python",
   "nbconvert_exporter": "python",
   "pygments_lexer": "ipython3",
   "version": "3.12.8"
  }
 },
 "nbformat": 4,
 "nbformat_minor": 5
}
